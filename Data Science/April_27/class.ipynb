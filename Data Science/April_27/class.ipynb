{
  "nbformat": 4,
  "nbformat_minor": 0,
  "metadata": {
    "colab": {
      "provenance": [],
      "gpuType": "T4",
      "toc_visible": true
    },
    "kernelspec": {
      "name": "python3",
      "display_name": "Python 3"
    },
    "language_info": {
      "name": "python"
    },
    "accelerator": "GPU"
  },
  "cells": [
    {
      "cell_type": "code",
      "source": [
        "print('hello world')"
      ],
      "metadata": {
        "colab": {
          "base_uri": "https://localhost:8080/"
        },
        "id": "eKH5uLuKvByX",
        "outputId": "98c7b7a2-6753-4ef8-9a51-34638eaec5e7"
      },
      "execution_count": null,
      "outputs": [
        {
          "output_type": "stream",
          "name": "stdout",
          "text": [
            "hello world\n"
          ]
        }
      ]
    },
    {
      "cell_type": "markdown",
      "source": [
        "### **Python**  \n",
        "Python is a high-level, interpreted programming language known for its simplicity, readability, and versatility. It supports multiple programming paradigms, including procedural, object-oriented, and functional programming.\n",
        "\n",
        "Python was created by **Guido van Rossum** in 1991.\n",
        "\n",
        "The name \"Python\" was inspired by Guido’s love for the British comedy series \"Monty Python's Flying Circus\", not the snake. He wanted a name that was short, unique, and a bit mysterious."
      ],
      "metadata": {
        "id": "sZ_RT9dYwA4M"
      }
    },
    {
      "cell_type": "code",
      "source": [
        "# this is a comment\n",
        "\n",
        "'''\n",
        "this is a multiline comment\n",
        "'''"
      ],
      "metadata": {
        "colab": {
          "base_uri": "https://localhost:8080/",
          "height": 36
        },
        "id": "BlkhxCB-vtEi",
        "outputId": "81201379-dd9c-465a-ee3f-d9f05e1cec1e"
      },
      "execution_count": null,
      "outputs": [
        {
          "output_type": "execute_result",
          "data": {
            "text/plain": [
              "'\\nthis is a multiline comment\\n'"
            ],
            "application/vnd.google.colaboratory.intrinsic+json": {
              "type": "string"
            }
          },
          "metadata": {},
          "execution_count": 4
        }
      ]
    },
    {
      "cell_type": "markdown",
      "source": [
        "### **Identifier**:  \n",
        "A name for variables, functions, or objects.  \n",
        "Example:  \n",
        "```python\n",
        "my_var = 10  # 'my_var' is an identifier\n",
        "```\n",
        "\n",
        "---\n",
        "\n",
        "### **Keyword**:  \n",
        "Reserved words with special meaning in Python.  \n",
        "Example:  \n",
        "```python\n",
        "if x > 0:  # 'if' is a keyword\n",
        "    print(\"Positive\")\n",
        "```"
      ],
      "metadata": {
        "id": "gaGIpTm9wtZo"
      }
    },
    {
      "cell_type": "code",
      "source": [
        "id = 10\n",
        "name = \"code it\"\n",
        "print('hello world!!!')\n",
        "print(id)\n",
        "print(name)"
      ],
      "metadata": {
        "colab": {
          "base_uri": "https://localhost:8080/"
        },
        "id": "jAqzqeCkwqg5",
        "outputId": "e0be85e5-68c3-4c81-9c8a-a1a834b8efe7"
      },
      "execution_count": null,
      "outputs": [
        {
          "output_type": "stream",
          "name": "stdout",
          "text": [
            "hello world!!!\n",
            "10\n",
            "code it\n"
          ]
        }
      ]
    },
    {
      "cell_type": "code",
      "source": [
        "# input and  printing format\n",
        "name = input(\"what is your name?\")\n",
        "age = input(\"what is your age?\")\n",
        "\n",
        "# print(name)\n",
        "# print(age)\n",
        "\n",
        "print(f\"My name is {name} and my age is {age}\")\n",
        "print('My name is {} and my age is {}'.format(name, age))\n",
        "print('My name is',name ,'and my age is', age)\n"
      ],
      "metadata": {
        "colab": {
          "base_uri": "https://localhost:8080/"
        },
        "id": "fR9cUPa3xnWe",
        "outputId": "a6bab4f6-ada9-4f59-edd0-657531f25c93"
      },
      "execution_count": null,
      "outputs": [
        {
          "output_type": "stream",
          "name": "stdout",
          "text": [
            "what is your name?code \n",
            "what is your age?50\n",
            "My name is code  and my age is 50\n",
            "My name is code  and my age is 50\n",
            "My name is code  and my age is 50\n"
          ]
        }
      ]
    },
    {
      "cell_type": "code",
      "source": [
        "print('Hello, Don\\'t do this')\n",
        "print(\"Hello, Don't do this\")\n",
        "print(\"Hello, Don\\\"t do this\")\n",
        "print('Hello, Don\"t do this')\n",
        "\n",
        "print(\"C:\\\\Users\\\\Desktop\\\\Documents\")\n",
        "print(r\"C:\\Users\\Desktop\\Documents\")\n",
        "\n",
        "\n"
      ],
      "metadata": {
        "colab": {
          "base_uri": "https://localhost:8080/"
        },
        "id": "mxw3fmNnyVKF",
        "outputId": "79c739c3-ee39-4b6f-9a39-bbe03643194f"
      },
      "execution_count": null,
      "outputs": [
        {
          "output_type": "stream",
          "name": "stdout",
          "text": [
            "Hello, Don't do this\n",
            "Hello, Don't do this\n",
            "Hello, Don\"t do this\n",
            "Hello, Don\"t do this\n",
            "C:\\Users\\Desktop\\Documents\n",
            "C:\\Users\\Desktop\\Documents\n"
          ]
        }
      ]
    },
    {
      "cell_type": "markdown",
      "source": [
        "## Data Types\n",
        "\n",
        "---\n",
        "\n",
        "### 1. **Numeric Types**\n",
        "   - **`int`**: Integer values.\n",
        "     - Example: `x = 42`\n",
        "   - **`float`**: Floating-point numbers.\n",
        "     - Example: `y = 3.14`\n",
        "   - **`complex`**: Complex numbers with real and imaginary parts.\n",
        "     - Example: `z = 2 + 3j`\n",
        "\n",
        "---\n",
        "\n",
        "### 2. **Sequence Types**\n",
        "   - **`str`**: String (text).\n",
        "     - Example: `s = \"Hello\"`\n",
        "     - Example: `s = 'Hello'`\n",
        "   - **`list`**: Ordered, mutable sequence.\n",
        "     - Example: `lst = [1, 2, 3]`\n",
        "   - **`tuple`**: Ordered, immutable sequence.\n",
        "     - Example: `tpl = (1, 2, 3)`\n",
        "   - **`range`**: Sequence of numbers.\n",
        "     - Example: `r = range(5)`\n",
        "\n",
        "---\n",
        "\n",
        "### 3. **Mapping Type**\n",
        "   - **`dict`**: Key-value pairs.\n",
        "     - Example: `d = {'a': 1, 'b': 2}`\n",
        "\n",
        "---\n",
        "\n",
        "### 4. **Set Types**\n",
        "   - **`set`**: Unordered collection of unique items.\n",
        "     - Example: `s = {1, 2, 3}`\n",
        "   - **`frozenset`**: Immutable version of `set`.\n",
        "     - Example: `fs = frozenset([1, 2, 3])`\n",
        "\n",
        "---\n",
        "\n",
        "### 5. **Boolean Type**\n",
        "   - **`bool`**: Represents `True` or `False`.\n",
        "     - Example: `b = True`\n",
        "\n",
        "---\n",
        "\n",
        "### 6. **Binary Types**\n",
        "   - **`bytes`**: Immutable sequence of bytes.\n",
        "     - Example: `b = b'hello'`\n",
        "   - **`bytearray`**: Mutable sequence of bytes.\n",
        "     - Example: `ba = bytearray(5)`\n",
        "   - **`memoryview`**: View object for shared memory.\n",
        "     - Example: `mv = memoryview(b'hello')`\n",
        "\n",
        "---\n",
        "\n",
        "### 7. **None Type**\n",
        "   - **`NoneType`**: Represents the absence of a value.\n",
        "     - Example: `n = None`\n",
        "\n",
        "---\n",
        "\n",
        "### 8. **Special Types**\n",
        "   - **Custom Types**: Defined using classes and objects.\n",
        "     - Example: `class MyClass: pass`\n",
        "   - **Module Types**: Represent imported modules.\n",
        "     - Example: `import math`\n",
        "\n",
        "---\n",
        "\n",
        "### Check Data Types\n",
        "You can check the type of a variable using `type()`:\n",
        "```python\n",
        "x = 42\n",
        "print(type(x))  # Output: <class 'int'>\n",
        "```\n"
      ],
      "metadata": {
        "id": "YjkI4CKN0iXs"
      }
    },
    {
      "cell_type": "code",
      "source": [
        "x = 42\n",
        "y = 3.14\n",
        "name = \"code it\"\n",
        "lst = [1,2 ,3.14]\n",
        "tp = (1,2 ,3.14)\n",
        "bo = True\n",
        "dct = {'name': 'code it', 'age': 20}\n",
        "st = {1,2 ,3.14}\n",
        "\n",
        "print(type(x))\n",
        "print(type(y))\n",
        "print(type(name))\n",
        "print(type(lst))\n",
        "print(type(tp))\n",
        "print(type(bo))\n",
        "print(type(dct))\n",
        "print(type(st))"
      ],
      "metadata": {
        "colab": {
          "base_uri": "https://localhost:8080/"
        },
        "id": "xEDuzgPY0ix1",
        "outputId": "e574a35f-7208-4984-8150-b090948d561e"
      },
      "execution_count": null,
      "outputs": [
        {
          "output_type": "stream",
          "name": "stdout",
          "text": [
            "<class 'int'>\n",
            "<class 'float'>\n",
            "<class 'str'>\n",
            "<class 'list'>\n",
            "<class 'tuple'>\n",
            "<class 'bool'>\n",
            "<class 'dict'>\n",
            "<class 'set'>\n"
          ]
        }
      ]
    },
    {
      "cell_type": "markdown",
      "source": [
        "## **Operators in Python**\n",
        "Operators are special symbols or keywords used to perform operations on variables and values.\n",
        "\n",
        "---\n",
        "\n",
        "## **1. Arithmetic Operators**\n",
        "Used for mathematical calculations.\n",
        "\n",
        "| **Operator** | **Description**      | **Example**       |\n",
        "|--------------|----------------------|-------------------|\n",
        "| `+`          | Addition             | `2 + 3 = 5`       |\n",
        "| `-`          | Subtraction          | `5 - 2 = 3`       |\n",
        "| `*`          | Multiplication       | `2 * 3 = 6`       |\n",
        "| `/`          | Division             | `5 / 2 = 2.5`     |\n",
        "| `//`         | Floor Division       | `5 // 2 = 2`      |\n",
        "| `%`          | Modulus (Remainder)  | `5 % 2 = 1`       |\n",
        "| `**`         | Exponentiation       | `2 ** 3 = 8`      |\n",
        "\n",
        "---\n",
        "\n",
        "## **2. Comparison Operators**\n",
        "Compare two values, returning `True` or `False`.\n",
        "\n",
        "| **Operator** | **Description**         | **Example**         |\n",
        "|--------------|-------------------------|---------------------|\n",
        "| `==`         | Equal to                | `5 == 5 → True`     |\n",
        "| `!=`         | Not equal to            | `5 != 3 → True`     |\n",
        "| `>`          | Greater than            | `5 > 3 → True`      |\n",
        "| `<`          | Less than               | `3 < 5 → True`      |\n",
        "| `>=`         | Greater than or equal   | `5 >= 5 → True`     |\n",
        "| `<=`         | Less than or equal      | `3 <= 5 → True`     |\n",
        "\n",
        "---\n",
        "\n",
        "## **3. Logical Operators**\n",
        "Combine multiple conditions.\n",
        "\n",
        "| **Operator** | **Description**          | **Example**               |\n",
        "|--------------|--------------------------|---------------------------|\n",
        "| `and`        | True if both conditions are true | `True and False → False`  |\n",
        "| `or`         | True if at least one condition is true | `True or False → True`   |\n",
        "| `not`        | Inverts the condition    | `not True → False`        |\n",
        "\n",
        "---\n",
        "\n",
        "## **4. Assignment Operators**\n",
        "Used to assign values to variables.\n",
        "\n",
        "| **Operator** | **Description**          | **Example**       |\n",
        "|--------------|--------------------------|-------------------|\n",
        "| `=`          | Assign                  | `x = 5`           |\n",
        "| `+=`         | Add and assign          | `x += 2` (x = x+2)|\n",
        "| `-=`         | Subtract and assign     | `x -= 2` (x = x-2)|\n",
        "\n",
        "---\n",
        "\n",
        "## **5. Membership Operators**\n",
        "Test for membership in a sequence.\n",
        "\n",
        "| **Operator** | **Description**          | **Example**            |\n",
        "|--------------|--------------------------|------------------------|\n",
        "| `in`         | True if value exists     | `'a' in 'apple' → True`|\n",
        "| `not in`     | True if value doesn’t exist | `'b' not in 'apple' → True`|\n",
        "\n",
        "---\n",
        "\n"
      ],
      "metadata": {
        "id": "8r6Kidf34FWQ"
      }
    },
    {
      "cell_type": "code",
      "source": [
        "a,b,c = 1, \"codeit\", 1.12\n",
        "print(a,b,c)\n",
        "print(type(a),type(b),type(c))"
      ],
      "metadata": {
        "colab": {
          "base_uri": "https://localhost:8080/"
        },
        "id": "Gjn5AtsB4F7s",
        "outputId": "a8b8f68e-06b8-42d2-d573-8d4772fb50ca"
      },
      "execution_count": null,
      "outputs": [
        {
          "output_type": "stream",
          "name": "stdout",
          "text": [
            "1 codeit 1.12\n",
            "<class 'int'> <class 'str'> <class 'float'>\n"
          ]
        }
      ]
    },
    {
      "cell_type": "code",
      "source": [
        "# string\n",
        "st1 = \"hello\"\n",
        "\n",
        "# age = int(input(\"what is your age\"))\n",
        "\n",
        "# print(age+2)\n",
        "# print(type(age))\n",
        "\n",
        "print(\"Code\" \"it\")\n",
        "print(\"Code\",\"it\")\n",
        "print(st1,\"Code it\")\n",
        "print(st1+\"Code it\")\n",
        "\n",
        "print(\"hello \"*3,\"code it\")\n",
        "\n",
        "# length of string\n",
        "print(len(st1))\n",
        "\n",
        "# indexing\n",
        "print(st1[0])\n",
        "print(st1[-5])\n",
        "\n",
        "# slicing\n",
        "# start stop step\n",
        "print(st1[2:4])\n",
        "print(st1[0:5:2])\n",
        "\n",
        "print(st1[:2] , \"code it\")\n",
        "\n"
      ],
      "metadata": {
        "colab": {
          "base_uri": "https://localhost:8080/"
        },
        "id": "5HfeCBX76eI3",
        "outputId": "db631de2-a2f7-4477-f403-89cd76e35a09"
      },
      "execution_count": null,
      "outputs": [
        {
          "output_type": "stream",
          "name": "stdout",
          "text": [
            "Codeit\n",
            "Code it\n",
            "hello Code it\n",
            "helloCode it\n",
            "hello hello hello  code it\n",
            "5\n",
            "h\n",
            "h\n",
            "ll\n",
            "hlo\n",
            "he code it\n"
          ]
        }
      ]
    },
    {
      "cell_type": "markdown",
      "source": [
        "## Task 1: Simple Calculator\n",
        "\n",
        "Write a Python program that takes two numbers as input from the user and prints their sum, difference, product, and quotient.\n",
        "\n",
        "\n",
        "**Instructions:**\n",
        "1. Write your code in the code block below.\n",
        "2. Run your code and check if the output matches the expected output.\n",
        "\n",
        "```python\n",
        "# Expected Output:  \n",
        "Enter the first number: 10  \n",
        "Enter the second number: 5  \n",
        "Sum: 15.0   \n",
        "Difference: 5.0     \n",
        "Product: 50.0   \n",
        "Quotient: 2.0\n",
        "```\n",
        "<details>\n",
        "  <summary>Click here for the solution</summary>\n",
        "\n",
        "```python\n",
        "# Solution for Task 1: Simple Calculator\n",
        "num1 = float(input(\"Enter the first number: \"))\n",
        "num2 = float(input(\"Enter the second number: \"))\n",
        "\n",
        "\n",
        "print(\"Sum:\", num1 + num2)\n",
        "print(\"Difference:\", num1 - num2)\n",
        "print(\"Product:\", num1 * num2)\n",
        "print(\"Quotient:\", num1 / num2)\n",
        "\n"
      ],
      "metadata": {
        "id": "T24i71-1CHQG"
      }
    },
    {
      "cell_type": "code",
      "source": [
        "# write your solution to task 1 here.\n"
      ],
      "metadata": {
        "id": "3mzEe3zlCJYi"
      },
      "execution_count": null,
      "outputs": []
    },
    {
      "cell_type": "markdown",
      "source": [
        "## Task 2: BMI Calculator\n",
        "Write a Python program that takes the user's weight (in kg) and height (in meters) as inputs and calculates the Body Mass Index (BMI) using the formula:  \n",
        "\n",
        "$$BMI = \\frac{\\text{weight}}{\\text{height}^2}$$\n",
        "\n",
        "\n",
        "\n",
        "```python\n",
        "# Expected Output:  \n",
        "Enter your weight (kg): 70\n",
        "Enter your height (m): 1.75\n",
        "Your BMI is: 22.86\n",
        "```\n",
        "\n",
        "<details>\n",
        "  <summary>Click here for the solution</summary>\n",
        "\n",
        "    \n",
        "```python\n",
        "# Solution for Task 2: BMI Calculator\n",
        "weight = float(input(\"Enter your weight (kg): \"))\n",
        "height = float(input(\"Enter your height (m): \"))\n",
        "bmi = weight / (height ** 2)\n",
        "print(f\"Your BMI is: {bmi}\")\n",
        "```"
      ],
      "metadata": {
        "id": "NkOY2dEQCMjJ"
      }
    },
    {
      "cell_type": "code",
      "source": [
        "# write your solution to task 2 here.\n"
      ],
      "metadata": {
        "id": "xTNu-wTLCLI0"
      },
      "execution_count": null,
      "outputs": []
    },
    {
      "cell_type": "markdown",
      "source": [
        "## Task 3: Temperature Converter\n",
        "Write a Python program that converts temperature from Celsius to Fahrenheit using the formula:\n",
        "$$F = \\frac{9}{5} \\times C + 32$$\n",
        "```python\n",
        "# Expected Output:  \n",
        "Enter temperature in Celsius: 25\n",
        "Temperature in Fahrenheit: 77.0\n",
        "```\n",
        "\n",
        "<details>\n",
        "  <summary>Click here for the solution</summary>\n",
        "\n",
        "    \n",
        "```python\n",
        "# Solution for Task 3: Temperature Converter\n",
        "celsius = float(input(\"Enter temperature in Celsius: \"))\n",
        "fahrenheit = (9/5) * celsius + 32\n",
        "print(\"Temperature in Fahrenheit:\", fahrenheit)\n",
        "```"
      ],
      "metadata": {
        "id": "gEt0VqWGCQG1"
      }
    },
    {
      "cell_type": "code",
      "source": [
        "# write your solution to task 3 here.\n"
      ],
      "metadata": {
        "id": "P7jAyBeICRdr"
      },
      "execution_count": null,
      "outputs": []
    },
    {
      "cell_type": "markdown",
      "source": [
        "## Task 4: Even or Odd\n",
        "Write a Python program that takes a number as input from the user and checks if it is even or odd.:\n",
        "\n",
        "```python\n",
        "# Expected Output:  \n",
        "Enter a number: 7\n",
        "7 is odd\n",
        "```\n",
        "\n",
        "<details>\n",
        "  <summary>Click here for the solution</summary>\n",
        "\n",
        "    \n",
        "```python\n",
        "# Solution for Task 4: Even or Odd\n",
        "number = int(input(\"Enter a number: \"))\n",
        "if number % 2 == 0:\n",
        "    print(f\"{number} is even\")\n",
        "else:\n",
        "    print(f\"{number} is odd\")\n",
        "\n",
        "```"
      ],
      "metadata": {
        "id": "zTNDlBYxCWV-"
      }
    },
    {
      "cell_type": "code",
      "source": [
        "# write your solution to task 4 here.\n"
      ],
      "metadata": {
        "id": "I52GKSp_CYw2"
      },
      "execution_count": null,
      "outputs": []
    },
    {
      "cell_type": "markdown",
      "source": [
        "## Task 5: Simple Interest Calculator\n",
        "Write a Python program that calculates simple interest using the formula:\n",
        "\n",
        "$$S.I. = \\frac{P \\times R \\times T}{100}$$  \n",
        "\n",
        "\n",
        "where P is the principal amount, R is the rate of interest, and T is the time in years.\n",
        "\n",
        "```python\n",
        "# Expected Output:  \n",
        "Enter principal amount: 1000\n",
        "Enter rate of interest: 5\n",
        "Enter time in years: 2\n",
        "Simple Interest: 100.0\n",
        "```\n",
        "\n",
        "<details>\n",
        "  <summary>Click here for the solution</summary>\n",
        "\n",
        "    \n",
        "```python\n",
        "# Solution for Task 5: Simple Interest Calculator\n",
        "principal = float(input(\"Enter principal amount: \"))\n",
        "rate = float(input(\"Enter rate of interest: \"))\n",
        "time = float(input(\"Enter time in years: \"))\n",
        "simple_interest = (principal * rate * time) / 100\n",
        "print(\"Simple Interest:\", simple_interest)\n",
        "\n",
        "```"
      ],
      "metadata": {
        "id": "m2AiBzqJCcSW"
      }
    },
    {
      "cell_type": "code",
      "source": [
        "# write your solution to task 5 here.\n"
      ],
      "metadata": {
        "id": "JCJVrZZaCcoN"
      },
      "execution_count": null,
      "outputs": []
    },
    {
      "cell_type": "markdown",
      "source": [
        "## Task 6: Extracting Substrings\n",
        "Write a Python program that asks the user to input a sentence and extracts:\n",
        "\n",
        "1. The first five characters.\n",
        "2. The last five characters.\n",
        "3. A substring in the middle (characters 5 to 10).\n",
        "\n",
        "```python\n",
        "# Expected Output:  \n",
        "Enter a sentence: Python programming is fun!\n",
        "First five characters: Pytho\n",
        "Last five characters: fun!\n",
        "Middle substring (characters 5 to 10): n pro\n",
        "```\n",
        "\n",
        "<details>\n",
        "  <summary>Click here for the solution</summary>\n",
        "\n",
        "    \n",
        "```python\n",
        "# Solution for Task 6: Extracting Substrings\n",
        "sentence = input(\"Enter a sentence: \")\n",
        "print(\"First five characters:\", sentence[:5])\n",
        "print(\"Last five characters:\", sentence[-5:])\n",
        "print(\"Middle substring (characters 5 to 10):\", sentence[4:10])\n",
        "\n",
        "```"
      ],
      "metadata": {
        "id": "y0ZT0RLPCfa_"
      }
    },
    {
      "cell_type": "code",
      "source": [
        "# write your solution to task 6 here.\n"
      ],
      "metadata": {
        "id": "wtKGXuB1Cfw6"
      },
      "execution_count": null,
      "outputs": []
    },
    {
      "cell_type": "code",
      "source": [],
      "metadata": {
        "id": "bEeTz61lCphK"
      },
      "execution_count": null,
      "outputs": []
    }
  ]
}