{
 "cells": [
  {
   "cell_type": "markdown",
   "id": "8ed2c3c6",
   "metadata": {},
   "source": [
    "## Task 7: Slicing a List\n",
    "Write a Python program that creates a list of 10 numbers (e.g., numbers = [1, 2, 3, 4, 5, 6, 7, 8, 9, 10]) and performs the following actions:\n",
    "\n",
    "1. Extract the first three elements.\n",
    "2. Extract the last three elements.\n",
    "3. Extract every second element.\n",
    "4. Replace last 3 elements with elements [11,12,13].\n",
    "\n",
    "```python\n",
    "# Expected Output:\n",
    "Original list: [1, 2, 3, 4, 5, 6, 7, 8, 9, 10]\n",
    "First three elements: [1, 2, 3]\n",
    "Last three elements: [8, 9, 10]\n",
    "Every second element: [1, 3, 5, 7, 9]\n",
    "Replaced list: [1, 2, 3, 4, 5, 6, 7, 11, 12, 13]\n",
    "```"
   ]
  },
  {
   "cell_type": "code",
   "execution_count": null,
   "id": "fbc592a7",
   "metadata": {},
   "outputs": [
    {
     "name": "stdout",
     "output_type": "stream",
     "text": [
      "First three elements: [1, 2, 3]\n",
      "Last three elements: [8, 9, 10]\n",
      "Every second element: [1, 3, 5, 7, 9]\n",
      "Replaced list: [1, 2, 3, 4, 5, 6, 7, 11, 12, 13]\n"
     ]
    }
   ],
   "source": [
    "numbers = [1, 2, 3, 4, 5, 6, 7, 8, 9, 10]\n",
    "first_three_elements = numbers[:3]\n",
    "last_three_elements = numbers[-3:]\n",
    "every_second_element = numbers[::2]\n",
    "replace_last_three_elements = numbers[:-3] + [11, 12, 13]\n",
    "print(f\"Original list: {numbers}\")\n",
    "print(f\"First three elements: {first_three_elements}\")\n",
    "print(f\"Last three elements: {last_three_elements}\")\n",
    "print(f\"Every second element: {every_second_element}\")\n",
    "print(f\"Replaced list: {replace_last_three_elements}\")"
   ]
  },
  {
   "cell_type": "markdown",
   "id": "c3c6252a",
   "metadata": {},
   "source": [
    "## Task 8: Reverse a String\n",
    "Write a Python program that asks the user to input a string and displays the reversed string.\n",
    "\n",
    "\n",
    "```python\n",
    "# Expected Output:\n",
    "Enter a string: Hello World\n",
    "Reversed string: dlroW olleH\n",
    "```"
   ]
  },
  {
   "cell_type": "code",
   "execution_count": null,
   "id": "ecd3f30f",
   "metadata": {},
   "outputs": [
    {
     "name": "stdout",
     "output_type": "stream",
     "text": [
      "Reversed string: dlroW olleH\n"
     ]
    }
   ],
   "source": [
    "user_input = input(\"Enter a string: \")\n",
    "reversed_string = user_input[::-1]\n",
    "print(f\"Enter a string: {user_input}\")\n",
    "print(f\"Reversed string: {reversed_string}\")"
   ]
  },
  {
   "cell_type": "markdown",
   "id": "b12bf2a5",
   "metadata": {},
   "source": [
    "## Task 9: Manage a Fruit Inventory\n",
    "You are managing a fruit inventory using a dictionary. The inventory contains the names of fruits as keys and their quantities as values. Perform the operations given below:\n",
    "```python\n",
    "# Expected Output:\n",
    "Updated Inventory: {'apple': 10, 'banana': 18, 'cherry': 5, 'date': 20, 'orange': 12}\n",
    "Sorted fruit quantities: [5, 10, 12, 18, 20]\n",
    "```\n",
    "\n",
    "Given inventory\n",
    "inventory = {\n",
    "    \"apple\": 10,\n",
    "    \"banana\": 15,\n",
    "    \"cherry\": 5,\n",
    "    \"date\": 20\n",
    "}\n",
    "Add a new fruit to the inventory\n",
    "Update the quantity of an existing fruit\n",
    "Extract fruit quantities as a sorted list"
   ]
  },
  {
   "cell_type": "code",
   "execution_count": 10,
   "id": "1521bc83",
   "metadata": {},
   "outputs": [
    {
     "name": "stdout",
     "output_type": "stream",
     "text": [
      "Updated inventory: {'apple': 10, 'banana': 18, 'cherry': 5, 'date': 20, 'orange': 12}\n",
      "Sorted fruit quantities: [5, 10, 12, 18, 20]\n"
     ]
    }
   ],
   "source": [
    "inventory = {\n",
    "    \"apple\": 10,\n",
    "    \"banana\": 15,\n",
    "    \"cherry\": 5,\n",
    "    \"date\": 20\n",
    "}\n",
    "\n",
    "# add a new fruit to the inventory\n",
    "inventory[\"orange\"] = 12\n",
    "\n",
    "# update the quantity of an existing fruit\n",
    "inventory[\"banana\"] = 18\n",
    "\n",
    "# extract fruit quantities as a sorted list\n",
    "sorted_quantities = sorted(inventory.values())\n",
    "print(f\"Updated inventory: {inventory}\")\n",
    "print(f\"Sorted fruit quantities: {sorted_quantities}\")"
   ]
  },
  {
   "cell_type": "markdown",
   "id": "e3a0e970",
   "metadata": {},
   "source": [
    "## Task 10: Set Operations\n",
    "Create two sets of numbers. Perform the union, intersection, and difference operations, and display the results.\n",
    "\n",
    "\n",
    "```python\n",
    "# Expected Output:\n",
    "Set A: {1, 2, 3}\n",
    "Set B: {2, 3, 4}\n",
    "Union: {1, 2, 3, 4}\n",
    "Intersection: {2, 3}\n",
    "Difference (A - B): {1}\n",
    "```"
   ]
  },
  {
   "cell_type": "code",
   "execution_count": 11,
   "id": "8acd3b36",
   "metadata": {},
   "outputs": [
    {
     "name": "stdout",
     "output_type": "stream",
     "text": [
      "Set A: {1, 2, 3}\n",
      "Set B: {2, 3, 4}\n",
      "Union: {1, 2, 3, 4}\n",
      "Intersection: {2, 3}\n",
      "Difference: {1}\n"
     ]
    }
   ],
   "source": [
    "set_A =  {1, 2, 3}\n",
    "set_B = {2, 3, 4}\n",
    "set_union = set_A | set_B\n",
    "set_intersection = set_A & set_B\n",
    "set_difference = set_A - set_B\n",
    "print(f\"Set A: {set_A}\")\n",
    "print(f\"Set B: {set_B}\")\n",
    "print(f\"Union: {set_union}\")\n",
    "print(f\"Intersection: {set_intersection}\")\n",
    "print(f\"Difference: {set_difference}\")"
   ]
  },
  {
   "cell_type": "markdown",
   "id": "5b8be2f7",
   "metadata": {},
   "source": [
    "## Task 11: String Processing\n",
    "Take a string, remove leading and trailing whitespaces, convert it to uppercase, and replace all occurrences of 'A' with 'X'.\n",
    "\n",
    "```python\n",
    "# Expected Output:\n",
    "Original String: \"   amazing apple   \"\n",
    "Processed String: \"XMXZING XPPLE\"\n",
    "```"
   ]
  },
  {
   "cell_type": "code",
   "execution_count": 12,
   "id": "f16c1fe3",
   "metadata": {},
   "outputs": [
    {
     "name": "stdout",
     "output_type": "stream",
     "text": [
      "Original String:    amazing apple   \n",
      "Processed String: XMXZING XPPLE\n"
     ]
    }
   ],
   "source": [
    "original_string = \"   amazing apple   \"\n",
    "stripped_string = original_string.strip()\n",
    "upper_string = stripped_string.upper()\n",
    "processed_string = upper_string.replace(\"A\", \"X\")\n",
    "print(f\"Original String: {original_string}\")\n",
    "print(f\"Processed String: {processed_string}\")"
   ]
  },
  {
   "cell_type": "markdown",
   "id": "3685f2bc",
   "metadata": {},
   "source": [
    "## Task 12: List Methods\n",
    "Create a list of numbers. Add a new number, remove a specific number, and sort the list in descending order.\n",
    "\n",
    "```python\n",
    "# Expected Output:\n",
    "Original List: [4, 2, 9]\n",
    "Updated List: [9, 7, 4]\n",
    "\n",
    "```"
   ]
  },
  {
   "cell_type": "code",
   "execution_count": 14,
   "id": "86c90434",
   "metadata": {},
   "outputs": [
    {
     "name": "stdout",
     "output_type": "stream",
     "text": [
      "Original list: [4, 2, 9]\n",
      "Updated list: [9, 7, 4]\n"
     ]
    }
   ],
   "source": [
    "numbers = [4, 2, 9]\n",
    "original_list = numbers.copy()\n",
    "numbers.append(7)\n",
    "numbers.remove(2)\n",
    "numbers.sort(reverse=True)      # by default sorts in ascending order, here reverse is used for sorting in descending order\n",
    "print(f\"Original list: {original_list}\")\n",
    "print(f\"Updated list: {numbers}\")\n"
   ]
  },
  {
   "cell_type": "markdown",
   "id": "c40ca778",
   "metadata": {},
   "source": [
    "## Task 13: Check if a Number is Positive, Negative, or Zero\n",
    "Use if-elif-else statements to check whether a number is positive, negative, or zero.\n",
    "\n",
    "```python\n",
    "# Expected Output:\n",
    "The number 7 is Positive.\n",
    "```"
   ]
  },
  {
   "cell_type": "code",
   "execution_count": 15,
   "id": "be4ec88c",
   "metadata": {},
   "outputs": [
    {
     "name": "stdout",
     "output_type": "stream",
     "text": [
      "The number 7 is Positive.\n"
     ]
    }
   ],
   "source": [
    "number = int(input(\"Enter a number: \"))\n",
    "if number > 0:\n",
    "    print(f\"The number {number} is Positive.\")\n",
    "elif number < 0:\n",
    "    print(f\"The number {number} is Negative.\")\n",
    "else:\n",
    "    print(\"The number is Zero.\")"
   ]
  },
  {
   "cell_type": "markdown",
   "id": "dabff4ff",
   "metadata": {},
   "source": [
    "## Task 14: Print Squares of Numbers from 1 to 5\n",
    "Use a for loop to print the square of each number from 1 to 5.\n",
    "\n",
    "```python\n",
    "# Expected Output:\n",
    "1 squared is 1\n",
    "2 squared is 4\n",
    "3 squared is 9\n",
    "4 squared is 16\n",
    "5 squared is 25\n",
    "\n",
    "```"
   ]
  },
  {
   "cell_type": "code",
   "execution_count": 17,
   "id": "4ecb7ed3",
   "metadata": {},
   "outputs": [
    {
     "name": "stdout",
     "output_type": "stream",
     "text": [
      "1 squared is 1\n",
      "2 squared is 4\n",
      "3 squared is 9\n",
      "4 squared is 16\n",
      "5 squared is 25\n"
     ]
    }
   ],
   "source": [
    "for i in range(1, 6):\n",
    "    print(f\"{i} squared is {i**2}\")"
   ]
  },
  {
   "cell_type": "markdown",
   "id": "83dabb0c",
   "metadata": {},
   "source": [
    "## Task 15: Countdown from 5 Using While Loop\n",
    "Use a while loop to countdown from 5 to 1 and then print \"Blast Off!\".\n",
    "\n",
    "```python\n",
    "# Expected Output:\n",
    "5\n",
    "4\n",
    "3\n",
    "2\n",
    "1\n",
    "Blast Off!\n",
    "\n",
    "```"
   ]
  },
  {
   "cell_type": "code",
   "execution_count": 18,
   "id": "f8860424",
   "metadata": {},
   "outputs": [
    {
     "name": "stdout",
     "output_type": "stream",
     "text": [
      "5\n",
      "4\n",
      "3\n",
      "2\n",
      "1\n",
      "Blast Off!\n"
     ]
    }
   ],
   "source": [
    "i = 5\n",
    "while i > 0:\n",
    "    print(i)\n",
    "    i -= 1\n",
    "print(\"Blast Off!\")"
   ]
  },
  {
   "cell_type": "markdown",
   "id": "47d27f7f",
   "metadata": {},
   "source": [
    "## Task 16: Number Guessing Game\n",
    "Create a number guessing game using if-else and while loop. The program should randomly choose a number between 1 and 10(given there). The player has 3 attempts to guess the number correctly. After each wrong guess, the program should tell whether the guess was too high or too low.\n",
    "\n",
    "\n",
    "```python\n",
    "# Expected Output:\n",
    "Guess the number (1-10): 4  \n",
    "Too low!  \n",
    "Guess the number (1-10): 9  \n",
    "Too high!  \n",
    "Guess the number (1-10): 7  \n",
    "Congratulations! You guessed it right.  \n",
    "\n",
    "```"
   ]
  },
  {
   "cell_type": "code",
   "execution_count": 5,
   "id": "6b0bf4bf",
   "metadata": {},
   "outputs": [
    {
     "name": "stdout",
     "output_type": "stream",
     "text": [
      "Too high!\n",
      "Too high!\n",
      "Congratulations! You guessed it right.\n"
     ]
    }
   ],
   "source": [
    "# run 'pip install -r requirements.txt' to install dependencies in command terminal\n",
    "import numpy as np\n",
    "number = np.random.randint(1, 10)\n",
    "attempts = 3\n",
    "for _ in range(attempts):\n",
    "    user_number = int(input(\"Guess the number (1-10): \"))\n",
    "    if user_number < number:\n",
    "        print(\"Too low!\")\n",
    "    elif user_number > number:\n",
    "        print(\"Too high!\") \n",
    "    else:\n",
    "        print(\"Congratulations! You guessed it right.\")\n",
    "        break\n",
    "else:\n",
    "    print(f\"Out of attempts! The correct number was {number}.\")"
   ]
  }
 ],
 "metadata": {
  "kernelspec": {
   "display_name": "base",
   "language": "python",
   "name": "python3"
  },
  "language_info": {
   "codemirror_mode": {
    "name": "ipython",
    "version": 3
   },
   "file_extension": ".py",
   "mimetype": "text/x-python",
   "name": "python",
   "nbconvert_exporter": "python",
   "pygments_lexer": "ipython3",
   "version": "3.12.7"
  }
 },
 "nbformat": 4,
 "nbformat_minor": 5
}
