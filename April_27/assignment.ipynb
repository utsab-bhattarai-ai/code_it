{
 "cells": [
  {
   "cell_type": "markdown",
   "id": "ec2564e9",
   "metadata": {},
   "source": [
    "## Task 1: Simple Calculator\n",
    "\n",
    "Write a Python program that takes two numbers as input from the user and prints their sum, difference, product, and quotient.\n",
    "\n",
    "\n",
    "**Instructions:**\n",
    "1. Write your code in the code block below.\n",
    "2. Run your code and check if the output matches the expected output.\n",
    "\n",
    "```python\n",
    "# Expected Output:  \n",
    "Enter the first number: 10  \n",
    "Enter the second number: 5  \n",
    "Sum: 15.0   \n",
    "Difference: 5.0     \n",
    "Product: 50.0   \n",
    "Quotient: 2.0\n",
    "```"
   ]
  },
  {
   "cell_type": "code",
   "execution_count": 14,
   "id": "6ece21e7",
   "metadata": {},
   "outputs": [
    {
     "name": "stdout",
     "output_type": "stream",
     "text": [
      "Sum: 15.0\n",
      "Difference: 5.0\n",
      "Product: 50.0\n",
      "Quotient: 2.0\n"
     ]
    }
   ],
   "source": [
    "first_number = 10\n",
    "second_number = 5\n",
    "sum = float(first_number + second_number)\n",
    "difference = float(first_number - second_number)\n",
    "product = float(first_number * second_number)\n",
    "quotient = float(first_number / second_number)\n",
    "print(f'Sum: {sum}')\n",
    "print(f'Difference: {difference}')\n",
    "print(f'Product: {product}')\n",
    "print(f'Quotient: {quotient}')"
   ]
  },
  {
   "cell_type": "markdown",
   "id": "a4681c51",
   "metadata": {},
   "source": [
    "## Task 2: BMI Calculator\n",
    "Write a Python program that takes the user's weight (in kg) and height (in meters) as inputs and calculates the Body Mass Index (BMI) using the formula:  \n",
    "\n",
    "$$BMI = \\frac{\\text{weight}}{\\text{height}^2}$$\n",
    "\n",
    "\n",
    "\n",
    "```python\n",
    "# Expected Output:  \n",
    "Enter your weight (kg): 70\n",
    "Enter your height (m): 1.75\n",
    "Your BMI is: 22.86\n",
    "```"
   ]
  },
  {
   "cell_type": "code",
   "execution_count": 15,
   "id": "74b6e362",
   "metadata": {},
   "outputs": [
    {
     "name": "stdout",
     "output_type": "stream",
     "text": [
      "Your BMI is: 22.86\n"
     ]
    }
   ],
   "source": [
    "user_weight_in_kg = float(input('Enter your weight (kg): '))\n",
    "user_height_in_m = float(input('Enter your height (m): '))\n",
    "body_mass_index = round(float((user_weight_in_kg) / ((user_height_in_m) ** 2)), 2)\n",
    "print(f'Your BMI is: {body_mass_index}')"
   ]
  },
  {
   "cell_type": "markdown",
   "id": "121a71af",
   "metadata": {},
   "source": [
    "## Task 3: Temperature Converter\n",
    "Write a Python program that converts temperature from Celsius to Fahrenheit using the formula:\n",
    "$$F = \\frac{9}{5} \\times C + 32$$\n",
    "```python\n",
    "# Expected Output:  \n",
    "Enter temperature in Celsius: 25\n",
    "Temperature in Fahrenheit: 77.0\n",
    "```"
   ]
  },
  {
   "cell_type": "code",
   "execution_count": 17,
   "id": "aff68341",
   "metadata": {},
   "outputs": [
    {
     "name": "stdout",
     "output_type": "stream",
     "text": [
      "Temperature in Fahrenheit: 77.0\n"
     ]
    }
   ],
   "source": [
    "celcius_temperature = float(input('Enter temperature in Celsius: '))\n",
    "print(f'Temperature in Fahrenheit: {round(((9/5)*celcius_temperature) + 32, 1)}')"
   ]
  },
  {
   "cell_type": "markdown",
   "id": "6e408878",
   "metadata": {},
   "source": [
    "## Task 4: Even or Odd\n",
    "Write a Python program that takes a number as input from the user and checks if it is even or odd.:\n",
    "\n",
    "```python\n",
    "# Expected Output:  \n",
    "Enter a number: 7\n",
    "7 is odd\n",
    "```"
   ]
  },
  {
   "cell_type": "code",
   "execution_count": 19,
   "id": "1be2b84b",
   "metadata": {},
   "outputs": [
    {
     "name": "stdout",
     "output_type": "stream",
     "text": [
      "7 is odd\n"
     ]
    }
   ],
   "source": [
    "user_input = int(input('Enter a number: '))\n",
    "if user_input % 2 == 0:\n",
    "    print(f'{user_input} is even')\n",
    "else:\n",
    "    print(f'{user_input} is odd')"
   ]
  },
  {
   "cell_type": "markdown",
   "id": "69e2b736",
   "metadata": {},
   "source": [
    "## Task 5: Simple Interest Calculator\n",
    "Write a Python program that calculates simple interest using the formula:\n",
    "\n",
    "$$S.I. = \\frac{P \\times R \\times T}{100}$$  \n",
    "\n",
    "\n",
    "where P is the principal amount, R is the rate of interest, and T is the time in years.\n",
    "\n",
    "```python\n",
    "# Expected Output:  \n",
    "Enter principal amount: 1000\n",
    "Enter rate of interest: 5\n",
    "Enter time in years: 2\n",
    "Simple Interest: 100.0\n",
    "```"
   ]
  },
  {
   "cell_type": "code",
   "execution_count": null,
   "id": "554851e2",
   "metadata": {},
   "outputs": [
    {
     "name": "stdout",
     "output_type": "stream",
     "text": [
      "Simple Interest: 100.0\n"
     ]
    }
   ],
   "source": [
    "principal_amount = int(input('Enter principal amount: '))\n",
    "rate_of_interest = float(input('Enter rate of interest: '))\n",
    "time_in_years = int(input('Enter time in years: '))\n",
    "simple_interest = round(float((principal_amount * rate_of_interest * time_in_years) / 100), 1)\n",
    "print(f'Simple Interest: {simple_interest}')"
   ]
  },
  {
   "cell_type": "markdown",
   "id": "1232c339",
   "metadata": {},
   "source": [
    "## Task 6: Extracting Substrings\n",
    "Write a Python program that asks the user to input a sentence and extracts:\n",
    "\n",
    "1. The first five characters.\n",
    "2. The last five characters.\n",
    "3. A substring in the middle (characters 5 to 10).\n",
    "\n",
    "```python\n",
    "# Expected Output:  \n",
    "Enter a sentence: Python programming is fun!\n",
    "First five characters: Pytho\n",
    "Last five characters: fun!\n",
    "Middle substring (characters 5 to 10): n pro\n",
    "```"
   ]
  },
  {
   "cell_type": "code",
   "execution_count": 23,
   "id": "603a7b48",
   "metadata": {},
   "outputs": [
    {
     "name": "stdout",
     "output_type": "stream",
     "text": [
      "First five characters: Pytho\n",
      "Last five characters:  fun!\n",
      "Middle substring (characters 5 to 10): on prog\n"
     ]
    }
   ],
   "source": [
    "user_input_sentence = input('Enter a sentence: ')\n",
    "first_five_characters = user_input_sentence[0:5]\n",
    "last_five_characters = user_input_sentence[-5:]\n",
    "middle_substring = user_input_sentence[4:11]\n",
    "print(f'First five characters: {first_five_characters}')\n",
    "print(f'Last five characters: {last_five_characters}')\n",
    "print(f'Middle substring (characters 5 to 10): {middle_substring}')"
   ]
  }
 ],
 "metadata": {
  "kernelspec": {
   "display_name": "base",
   "language": "python",
   "name": "python3"
  },
  "language_info": {
   "codemirror_mode": {
    "name": "ipython",
    "version": 3
   },
   "file_extension": ".py",
   "mimetype": "text/x-python",
   "name": "python",
   "nbconvert_exporter": "python",
   "pygments_lexer": "ipython3",
   "version": "3.12.7"
  }
 },
 "nbformat": 4,
 "nbformat_minor": 5
}
