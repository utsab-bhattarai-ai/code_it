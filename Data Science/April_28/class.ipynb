{
  "cells": [
    {
      "cell_type": "markdown",
      "metadata": {
        "id": "Gf-I_ZLmzd2r"
      },
      "source": [
        "### Strings"
      ]
    },
    {
      "cell_type": "code",
      "execution_count": null,
      "metadata": {
        "colab": {
          "base_uri": "https://localhost:8080/"
        },
        "id": "bEeTz61lCphK",
        "outputId": "fd5adb3a-5b7b-421e-9515-44df0d07572b"
      },
      "outputs": [
        {
          "name": "stdout",
          "output_type": "stream",
          "text": [
            "       Welcome to the class!!          \n",
            "Welcome to the class!!\n",
            "welcome to the class!!\n",
            "WELCOME TO THE CLASS!!\n",
            "Welcome to a class!!\n",
            "['Welcome', 'to', 'the', 'class!!']\n",
            "17\n",
            "3\n"
          ]
        }
      ],
      "source": [
        "# More on strings\n",
        "\n",
        "str1  = \"       Welcome to the class!!          \"\n",
        "\n",
        "print(str1)\n",
        "str1 = str1.strip()\n",
        "print(str1)\n",
        "\n",
        "print(str1.lower())\n",
        "print(str1.upper())\n",
        "\n",
        "print(str1.replace(\"the\",\"a\"))\n",
        "\n",
        "print(str1.split())\n",
        "\n",
        "print(str1.index('a'))\n",
        "print(str1.index('c'))\n"
      ]
    },
    {
      "cell_type": "markdown",
      "metadata": {
        "id": "j-LFADvnzgyE"
      },
      "source": [
        "### List"
      ]
    },
    {
      "cell_type": "code",
      "execution_count": null,
      "metadata": {
        "colab": {
          "base_uri": "https://localhost:8080/"
        },
        "id": "R4GHWx0w2gss",
        "outputId": "b611908e-a019-43c0-9678-16013cc22bf1"
      },
      "outputs": [
        {
          "name": "stdout",
          "output_type": "stream",
          "text": [
            "[1, 2, 3, 4] [1.12, 1, 'apple'] [1.12, 1.23] [[1, 2], [3, 4]]\n",
            "1\n",
            "2\n",
            "[2, 3]\n",
            "[5, 2, 3, 4]\n",
            "[5, 6, 7, 4]\n",
            "[]\n",
            "['apple']\n",
            "['apple', 1.12, 1.23]\n",
            "[1, 2, 3, 4]\n",
            "[1, 2, 3, 4, 5]\n"
          ]
        }
      ],
      "source": [
        "# List\n",
        "\n",
        "a = [1,2,3,4]\n",
        "b = [1.12, 1 , \"apple\"]\n",
        "c = [1.12,1.23]\n",
        "\n",
        "d = [[1,2],[3,4]]\n",
        "\n",
        "print(a,b,c,d)\n",
        "\n",
        "# indexing and slicing\n",
        "print(a[0])\n",
        "print(d[0][1])\n",
        "\n",
        "print(a[1:3])\n",
        "\n",
        "\n",
        "\n",
        "# replacing values\n",
        "a[0] = 5\n",
        "print(a)\n",
        "\n",
        "a[:3]=[5,6,7]\n",
        "print(a)\n",
        "\n",
        "a = []\n",
        "print(a)\n",
        "\n",
        "b[:2] = []\n",
        "print(b)\n",
        "\n",
        "# concatination\n",
        "print(b+c)\n",
        "\n",
        "e = [1,2,3,4]\n",
        "print(e)\n",
        "\n",
        "e.append(5)\n",
        "print(e)\n"
      ]
    },
    {
      "cell_type": "code",
      "execution_count": null,
      "metadata": {
        "colab": {
          "base_uri": "https://localhost:8080/"
        },
        "id": "tY9YN8uI4OUP",
        "outputId": "d61b2983-7262-44e7-a4f4-4b4ae27f0d1e"
      },
      "outputs": [
        {
          "name": "stdout",
          "output_type": "stream",
          "text": [
            "[1, 2, 3, 4, 5]\n",
            "[1, 2, 3, 4, 5]\n",
            "[1, 2, 3, 4]\n",
            "[1, 2, 3, 4, 5]\n"
          ]
        }
      ],
      "source": [
        "# concatination and shallow copy\n",
        "list1= [1,2,3,4]\n",
        "list2 = list1\n",
        "list2.append(5)\n",
        "print(list1)\n",
        "print(list2)\n",
        "\n",
        "# shallow copy\n",
        "list1= [1,2,3,4]\n",
        "list2 = list1.copy()\n",
        "list2.append(5)\n",
        "print(list1)\n",
        "print(list2)"
      ]
    },
    {
      "cell_type": "code",
      "execution_count": null,
      "metadata": {
        "colab": {
          "base_uri": "https://localhost:8080/"
        },
        "id": "OXiocu2X5Hdr",
        "outputId": "72021fb7-c8ab-4758-8c90-14a1ceaa6721"
      },
      "outputs": [
        {
          "name": "stdout",
          "output_type": "stream",
          "text": [
            "[1, 2, 5, 3, 4, 5, 6, 7, 8]\n",
            "[1, 2, 3, 4, 5, 6, 7, 8]\n",
            "[1, 2, 4, 5, 6, 7, 8]\n",
            "[]\n",
            "[5]\n",
            "[5, 1, 1, 3, 4]\n",
            "1\n",
            "[4, 3, 1, 1, 5]\n",
            "[3, 1, 1, 5]\n",
            "5\n",
            "[3, 1, 1]\n",
            "[1, 1, 3]\n"
          ]
        }
      ],
      "source": [
        "# list methods\n",
        "list1 = [1,2,3,4,5,6,7,8]\n",
        "\n",
        "list1.insert(2,5)\n",
        "print(list1)\n",
        "\n",
        "list1.remove(5)\n",
        "print(list1)\n",
        "\n",
        "list1.pop(2)\n",
        "print(list1)\n",
        "\n",
        "list1.clear()\n",
        "print(list1)\n",
        "\n",
        "list1.append(5)\n",
        "print(list1)\n",
        "\n",
        "list1.extend([1,1,3,4])\n",
        "print(list1)\n",
        "\n",
        "print(list1.count(5))\n",
        "\n",
        "list1.reverse()\n",
        "print(list1)\n",
        "\n",
        "del list1[0]\n",
        "print(list1)\n",
        "\n",
        "print(list1.pop())\n",
        "print(list1)\n",
        "\n",
        "list1.sort()\n",
        "print(list1)"
      ]
    },
    {
      "cell_type": "markdown",
      "metadata": {
        "id": "S2hnWrgkzmPv"
      },
      "source": [
        "### Tuple"
      ]
    },
    {
      "cell_type": "code",
      "execution_count": null,
      "metadata": {
        "colab": {
          "base_uri": "https://localhost:8080/"
        },
        "id": "nDf1DXOf8dE7",
        "outputId": "fffb8766-c54f-4fc4-cb95-de5275cfdcc6"
      },
      "outputs": [
        {
          "name": "stdout",
          "output_type": "stream",
          "text": [
            "(1, 2, 3, 4)\n",
            "<class 'tuple'>\n",
            "(1, 2, 3, 4)\n",
            "[1, 2, 3, 4]\n",
            "1\n",
            "4\n"
          ]
        }
      ],
      "source": [
        "# tuple\n",
        "tp = (1,2,3,4)\n",
        "print(tp)\n",
        "tp = (1,1.12,\"hello\",(1,2))\n",
        "\n",
        "print(type(tp))\n",
        "\n",
        "# conversion between tuple and list\n",
        "list1 = [1,2,3,4]\n",
        "tp = tuple(list1)\n",
        "print(tp)\n",
        "\n",
        "list2 = list(tp)\n",
        "print(list2)\n",
        "\n",
        "# min max\n",
        "print(min(tp))\n",
        "print(max(tp))"
      ]
    },
    {
      "cell_type": "markdown",
      "metadata": {
        "id": "jWetGw1rzpJ5"
      },
      "source": [
        "### Dictionary"
      ]
    },
    {
      "cell_type": "code",
      "execution_count": null,
      "metadata": {
        "colab": {
          "base_uri": "https://localhost:8080/"
        },
        "id": "bof8it3i9OAt",
        "outputId": "b32a6da4-8289-432e-88c9-b56c04db48ca"
      },
      "outputs": [
        {
          "name": "stdout",
          "output_type": "stream",
          "text": [
            "{'name': 'john', 'age': 13, 'address': 'kathmandu'}\n",
            "<class 'dict'>\n",
            "{'name': 'sam', 'age': 15, 'address': 'pokhara'}\n",
            "<class 'dict'>\n",
            "john\n",
            "13\n",
            "50\n",
            "24\n",
            "{'name': 'john', 'age': 24}\n",
            "dict_keys(['name', 'age'])\n",
            "dict_values(['john', 24])\n",
            "dict_items([('name', 'john'), ('age', 24)])\n",
            "john\n",
            "{'name': 'sam', 'age': 15, 'address': 'kathmandu'}\n"
          ]
        }
      ],
      "source": [
        "# dictionary\n",
        "\n",
        "person1 = {'name':\"john\", \"age\":13, \"address\":\"kathmandu\"}\n",
        "print(person1)\n",
        "print(type(person1))\n",
        "\n",
        "\n",
        "person2 = dict(name=\"sam\", age=15, address=\"pokhara\")\n",
        "print(person2)\n",
        "print(type(person2))\n",
        "\n",
        "# printing values using keys\n",
        "print(person1[\"name\"])\n",
        "print(person1[\"age\"])\n",
        "\n",
        "# value update using keys\n",
        "person1['age']= 50\n",
        "print(person1[\"age\"])\n",
        "person1.update({\"age\":24})\n",
        "print(person1[\"age\"])\n",
        "\n",
        "del person1[\"address\"]\n",
        "print(person1)\n",
        "\n",
        "\n",
        "# methods\n",
        "print(person1.keys())\n",
        "print(person1.values())\n",
        "print(person1.items())\n",
        "\n",
        "\n",
        "# nested dict\n",
        "person = {\n",
        "    \"person1\":{'name':\"john\", \"age\":13, \"address\":\"kathmandu\"},\n",
        "    \"person2\":{'name':\"sam\", \"age\":15, \"address\":\"pokhara\"}\n",
        "}\n",
        "print(person['person1']['name'])\n",
        "\n",
        "\n",
        "# merging dict\n",
        "person1 = {'name':\"john\", \"age\":13, \"address\":\"kathmandu\"}\n",
        "person2 = dict(name=\"sam\", age=15)\n",
        "\n",
        "person1.update(person2)\n",
        "print(person1)"
      ]
    },
    {
      "cell_type": "markdown",
      "metadata": {
        "id": "2pCYbeHzzsJ0"
      },
      "source": [
        "### Set"
      ]
    },
    {
      "cell_type": "code",
      "execution_count": null,
      "metadata": {
        "colab": {
          "base_uri": "https://localhost:8080/"
        },
        "id": "hbJTLvmq_XIb",
        "outputId": "49073d41-2f85-4681-dbb3-3ed8a9a53faf"
      },
      "outputs": [
        {
          "name": "stdout",
          "output_type": "stream",
          "text": [
            "{1, 2, 3}\n",
            "<class 'set'>\n",
            "{1, 2, 3, 4}\n",
            "{1, 2, 3, 4, 5, 6, 7}\n",
            "{1, 2, 3, 4, 6, 7}\n",
            "1\n",
            "set()\n"
          ]
        }
      ],
      "source": [
        "# Set\n",
        "a = {1,2,3}\n",
        "print(a)\n",
        "print(type(a))\n",
        "\n",
        "\n",
        "set1 = {1,1,1,1}\n",
        "print(set1)\n",
        "\n",
        "\n",
        "# methods\n",
        "a.add(4)\n",
        "print(a)\n",
        "\n",
        "a.update([5,6,7])\n",
        "print(a)\n",
        "\n",
        "a.remove(5)\n",
        "print(a)\n",
        "\n",
        "print(a.pop())\n",
        "\n",
        "a.clear()\n",
        "print(a)\n"
      ]
    },
    {
      "cell_type": "code",
      "execution_count": null,
      "metadata": {
        "colab": {
          "base_uri": "https://localhost:8080/"
        },
        "id": "IjL5NWsVABN_",
        "outputId": "a640c1ab-b632-4912-d509-210b6e865b7c"
      },
      "outputs": [
        {
          "name": "stdout",
          "output_type": "stream",
          "text": [
            "{1, 2, 3, 4, 5, 6, 7, 8}\n",
            "{1, 2, 3, 4, 5, 6, 7, 8}\n",
            "{4, 5}\n",
            "{4, 5}\n",
            "{1, 2, 3}\n",
            "{1, 2, 3}\n",
            "{1, 2, 3, 6, 7, 8}\n",
            "{1, 2, 3, 6, 7, 8}\n"
          ]
        }
      ],
      "source": [
        "# set operations\n",
        "\n",
        "set1 = {1,2,3,4,5}\n",
        "set2 = {4,5,6,7,8}\n",
        "\n",
        "print(set1.union(set2))\n",
        "print(set1|set2)\n",
        "\n",
        "print(set1.intersection(set2))\n",
        "print(set1&set2)\n",
        "\n",
        "\n",
        "print(set1.difference(set2))\n",
        "print(set1-set2)\n",
        "\n",
        "\n",
        "print(set1.symmetric_difference(set2))\n",
        "print(set1^set2)\n"
      ]
    },
    {
      "cell_type": "code",
      "execution_count": null,
      "metadata": {
        "colab": {
          "base_uri": "https://localhost:8080/"
        },
        "id": "4YZjScWWAmb_",
        "outputId": "92aa851d-06f9-4b91-8a09-113020680801"
      },
      "outputs": [
        {
          "name": "stdout",
          "output_type": "stream",
          "text": [
            "True\n",
            "True\n",
            "True\n"
          ]
        }
      ],
      "source": [
        "# superset and subset\n",
        "\n",
        "set1 = {1,2,3,4,5,7}\n",
        "set2 = {1,2,3,7}\n",
        "set3 = {9, 8}\n",
        "\n",
        "print(set1.issuperset(set2))\n",
        "print(set2.issubset(set1))\n",
        "print(set2.isdisjoint(set3))"
      ]
    },
    {
      "cell_type": "code",
      "execution_count": null,
      "metadata": {
        "colab": {
          "base_uri": "https://localhost:8080/"
        },
        "id": "iCFtUoRvBY5D",
        "outputId": "4f979350-86d3-4aa3-e254-1e6f8640cd97"
      },
      "outputs": [
        {
          "name": "stdout",
          "output_type": "stream",
          "text": [
            "frozenset({1, 2, 3})\n"
          ]
        }
      ],
      "source": [
        "# frozen set\n",
        "set1 = frozenset([1,2,3])\n",
        "print(set1)"
      ]
    },
    {
      "cell_type": "markdown",
      "metadata": {
        "id": "l3mWxipyB4NJ"
      },
      "source": [
        "### Control Statements"
      ]
    },
    {
      "cell_type": "code",
      "execution_count": null,
      "metadata": {
        "id": "nWsbuYeTB6EJ"
      },
      "outputs": [],
      "source": [
        "# 1. Conditional statement (if, elif, else)\n",
        "# 2. looping statement (for, while)\n",
        "# 3. control flow modifiers(break, continue, pass)"
      ]
    },
    {
      "cell_type": "code",
      "execution_count": null,
      "metadata": {
        "colab": {
          "base_uri": "https://localhost:8080/"
        },
        "id": "VMIaPGMyCFJW",
        "outputId": "359b2db6-b170-467e-cf4d-e4e67d191f81"
      },
      "outputs": [
        {
          "name": "stdout",
          "output_type": "stream",
          "text": [
            "Enter a number: 7\n",
            "odd\n"
          ]
        }
      ],
      "source": [
        "# conditional\n",
        "x = int(input(\"Enter a number: \"))\n",
        "\n",
        "if(x%2==0) and x == 2:\n",
        "  print(\"Even and 2\")\n",
        "\n",
        "elif(x%2 == 0):\n",
        "  print(\"Even\")\n",
        "\n",
        "else:\n",
        "  print(\"odd\")\n",
        "\n"
      ]
    },
    {
      "cell_type": "code",
      "execution_count": null,
      "metadata": {
        "colab": {
          "base_uri": "https://localhost:8080/"
        },
        "id": "3yKOfejdDJvj",
        "outputId": "8f1601e0-e964-4dd6-97b4-429a04bd61e5"
      },
      "outputs": [
        {
          "name": "stdout",
          "output_type": "stream",
          "text": [
            "0,1,2,3,4,\n",
            "apple,banana,grapes,\n",
            "'c' found at index 3\n",
            "'c' found at index 15\n",
            "name anil\n",
            "age 12\n",
            "address kathmandu\n"
          ]
        }
      ],
      "source": [
        "# looping\n",
        "\n",
        "for i in range(5):\n",
        "  print(i,end=',')\n",
        "\n",
        "print(\"\")\n",
        "\n",
        "# Looping list\n",
        "fruits = [\"apple\",\"banana\",\"grapes\"]\n",
        "for fruit in fruits:\n",
        "  print(fruit,end=\",\")\n",
        "\n",
        "print(\"\")\n",
        "\n",
        "# Looping String\n",
        "str = \"Welcome to the class\"\n",
        "for index in range(len(str)):\n",
        "    if str[index] == 'c':\n",
        "        print(f\"'c' found at index {index}\")\n",
        "\n",
        "\n",
        "\n",
        "# Looping dictionary\n",
        "students = {\"name\":\"anil\", \"age\":12, \"address\":\"kathmandu\"}\n",
        "\n",
        "for key,value in students.items():\n",
        "  print(key, value)"
      ]
    },
    {
      "cell_type": "code",
      "execution_count": null,
      "metadata": {
        "colab": {
          "base_uri": "https://localhost:8080/"
        },
        "id": "1gVOJgjKFWaI",
        "outputId": "92b1a255-7905-4190-9ce2-a018bc8eb754"
      },
      "outputs": [
        {
          "name": "stdout",
          "output_type": "stream",
          "text": [
            "0,1,2,3,4,5,6,7,8,9,10,"
          ]
        }
      ],
      "source": [
        "# while loop\n",
        "x = 0\n",
        "while(x<=10):\n",
        "  print(x,end=\",\")\n",
        "  # x += 1"
      ]
    },
    {
      "cell_type": "markdown",
      "metadata": {
        "id": "7ePNdxKEz6kO"
      },
      "source": [
        "## Task 7: Slicing a List\n",
        "Write a Python program that creates a list of 10 numbers (e.g., numbers = [1, 2, 3, 4, 5, 6, 7, 8, 9, 10]) and performs the following actions:\n",
        "\n",
        "1. Extract the first three elements.\n",
        "2. Extract the last three elements.\n",
        "3. Extract every second element.\n",
        "4. Replace last 3 elements with elements [11,12,13].\n",
        "\n",
        "```python\n",
        "# Expected Output:\n",
        "Original list: [1, 2, 3, 4, 5, 6, 7, 8, 9, 10]\n",
        "First three elements: [1, 2, 3]\n",
        "Last three elements: [8, 9, 10]\n",
        "Every second element: [1, 3, 5, 7, 9]\n",
        "Replaced list: [1, 2, 3, 4, 5, 6, 7, 11, 12, 13]\n",
        "```\n",
        "\n",
        "<details>\n",
        "  <summary>Click here for the solution</summary>\n",
        "\n",
        "    \n",
        "```python\n",
        "# Solution for Task 7: Slicing a List\n",
        "numbers = [1, 2, 3, 4, 5, 6, 7, 8, 9, 10]\n",
        "print(\"Original list:\", numbers)\n",
        "print(\"First three elements:\", numbers[:3])\n",
        "print(\"Last three elements:\", numbers[-3:])\n",
        "print(\"Every second element:\", numbers[::2])\n",
        "numbers[-3:] = [11, 12, 13]\n",
        "print(\"Reversed list:\", numbers)\n",
        "\n",
        "\n",
        "```"
      ]
    },
    {
      "cell_type": "code",
      "execution_count": null,
      "metadata": {
        "id": "wTGzisoIGUVB"
      },
      "outputs": [],
      "source": [
        "# write your solution to task 7 here."
      ]
    },
    {
      "cell_type": "markdown",
      "metadata": {
        "id": "J47h48Jiz_gd"
      },
      "source": [
        "## Task 8: Reverse a String\n",
        "Write a Python program that asks the user to input a string and displays the reversed string.\n",
        "\n",
        "\n",
        "```python\n",
        "# Expected Output:\n",
        "Enter a string: Hello World\n",
        "Reversed string: dlroW olleH\n",
        "```\n",
        "\n",
        "<details>\n",
        "  <summary>Click here for the solution</summary>\n",
        "\n",
        "    \n",
        "```python\n",
        "# Solution for Task 8: Reverse a String\n",
        "string = input(\"Enter a string: \")\n",
        "reversed_string = string[::-1]\n",
        "print(\"Reversed string:\", reversed_string)\n",
        "```"
      ]
    },
    {
      "cell_type": "code",
      "execution_count": null,
      "metadata": {
        "id": "qHuXyk2I0Bwj"
      },
      "outputs": [],
      "source": [
        "# write your solution to task 8 here.\n"
      ]
    },
    {
      "cell_type": "markdown",
      "metadata": {
        "id": "WQ1wOgWl0Ls3"
      },
      "source": [
        "## Task 9: Manage a Fruit Inventory\n",
        "You are managing a fruit inventory using a dictionary. The inventory contains the names of fruits as keys and their quantities as values. Perform the operations given below:\n",
        "```python\n",
        "# Expected Output:\n",
        "Updated Inventory: {'apple': 10, 'banana': 18, 'cherry': 5, 'date': 20, 'orange': 12}\n",
        "Sorted fruit quantities: [5, 10, 12, 18, 20]\n",
        "```\n",
        "\n",
        "<details>\n",
        "  <summary>Click here for the solution</summary>\n",
        "\n",
        "    \n",
        "```python\n",
        "# Solution for Task 9: Manage a Fruit Inventory\n",
        "# Given inventory\n",
        "inventory = {\n",
        "    \"apple\": 10,\n",
        "    \"banana\": 15,\n",
        "    \"cherry\": 5,\n",
        "    \"date\": 20\n",
        "}\n",
        "\n",
        "# Add a new fruit to the inventory\n",
        "inventory[\"orange\"] = 12\n",
        "\n",
        "# Update the quantity of an existing fruit\n",
        "inventory[\"banana\"] = 18\n",
        "\n",
        "# Extract fruit quantities as a sorted list\n",
        "sorted_quantities = sorted(inventory.values())\n",
        "\n",
        "# Output results\n",
        "print(\"Updated Inventory:\", inventory)\n",
        "print(\"Sorted fruit quantities:\", sorted_quantities)\n",
        "```"
      ]
    },
    {
      "cell_type": "code",
      "execution_count": null,
      "metadata": {
        "id": "rh0vE6WA0MEc"
      },
      "outputs": [],
      "source": [
        "# write your solution to task 8 here.\n",
        "inventory = {\n",
        "    \"apple\": 10,\n",
        "    \"banana\": 15,\n",
        "    \"cherry\": 5,\n",
        "    \"date\": 20\n",
        "}\n",
        "\n",
        "# Operations:\n",
        "# Add \"orange\" with quantity 12.\n",
        "\n",
        "# Update \"banana\" to quantity 18.\n",
        "\n",
        "# Extract quantities and sort them in ascending order.\n",
        "\n",
        "# Output results\n"
      ]
    },
    {
      "cell_type": "markdown",
      "metadata": {
        "id": "tJSpBVIi0et4"
      },
      "source": [
        "## Task 10: Set Operations\n",
        "Create two sets of numbers. Perform the union, intersection, and difference operations, and display the results.\n",
        "\n",
        "\n",
        "```python\n",
        "# Expected Output:\n",
        "Set A: {1, 2, 3}\n",
        "Set B: {2, 3, 4}\n",
        "Union: {1, 2, 3, 4}\n",
        "Intersection: {2, 3}\n",
        "Difference (A - B): {1}\n",
        "```\n",
        "\n",
        "<details>\n",
        "  <summary>Click here for the solution</summary>\n",
        "\n",
        "    \n",
        "```python\n",
        "# Solution for Task 10: Set Operations\n",
        "set_a = {1, 2, 3}\n",
        "set_b = {2, 3, 4}\n",
        "\n",
        "union_set = set_a | set_b\n",
        "intersection_set = set_a & set_b\n",
        "difference_set = set_a - set_b\n",
        "\n",
        "print(\"Set A:\", set_a)\n",
        "print(\"Set B:\", set_b)\n",
        "print(\"Union:\", union_set)\n",
        "print(\"Intersection:\", intersection_set)\n",
        "print(\"Difference (A - B):\", difference_set)\n",
        "\n",
        "```"
      ]
    },
    {
      "cell_type": "code",
      "execution_count": null,
      "metadata": {
        "id": "ZEwptgGI0fGU"
      },
      "outputs": [],
      "source": [
        "# write your solution to task 10 here.\n"
      ]
    },
    {
      "cell_type": "markdown",
      "metadata": {
        "id": "6PMw1shP0mFr"
      },
      "source": [
        "## Task 11: String Processing\n",
        "Take a string, remove leading and trailing whitespaces, convert it to uppercase, and replace all occurrences of 'A' with 'X'.\n",
        "\n",
        "```python\n",
        "# Expected Output:\n",
        "Original String: \"   amazing apple   \"\n",
        "Processed String: \"XMXZING XPPLE\"\n",
        "```\n",
        "\n",
        "<details>\n",
        "  <summary>Click here for the solution</summary>\n",
        "\n",
        "    \n",
        "```python\n",
        "# Solution for Task 12: String Processing\n",
        "\n",
        "original_string = \"   amazing apple   \"\n",
        "processed_string = original_string.strip().upper().replace('A', 'X')\n",
        "\n",
        "print(\"Original String:\", original_string)\n",
        "print(\"Processed String:\", processed_string)\n",
        "\n",
        "```"
      ]
    },
    {
      "cell_type": "code",
      "execution_count": null,
      "metadata": {
        "id": "KMKGTU5T0mpC"
      },
      "outputs": [],
      "source": [
        "# write your solution to task 11 here.\n",
        "original_string = \"   amazing apple   \"\n"
      ]
    },
    {
      "cell_type": "markdown",
      "metadata": {
        "id": "3oztU1Ka0rBc"
      },
      "source": [
        "## Task 12: List Methods\n",
        "Create a list of numbers. Add a new number, remove a specific number, and sort the list in descending order.\n",
        "\n",
        "```python\n",
        "# Expected Output:\n",
        "Original List: [4, 2, 9]\n",
        "Updated List: [9, 7, 4]\n",
        "\n",
        "```\n",
        "\n",
        "<details>\n",
        "  <summary>Click here for the solution</summary>\n",
        "\n",
        "    \n",
        "```python\n",
        "# Solution for Task 13: List Methods\n",
        "numbers = [4, 2, 9]\n",
        "print(\"Original List:\", numbers)\n",
        "\n",
        "numbers.append(7)\n",
        "numbers.remove(2)\n",
        "numbers.sort(reverse=True)\n",
        "'''\n",
        "or we can also do this\n",
        "numbers.sort()\n",
        "numbers.reverse()\n",
        "'''\n",
        "print(\"Updated List:\", numbers)\n",
        "\n",
        "```"
      ]
    },
    {
      "cell_type": "code",
      "execution_count": null,
      "metadata": {
        "id": "Iq9F8Gb-0sW4"
      },
      "outputs": [],
      "source": [
        "# write your solution to task 12 here.\n",
        "numbers = [4, 2, 9]\n"
      ]
    },
    {
      "cell_type": "markdown",
      "metadata": {
        "id": "x1wFF5gr02ua"
      },
      "source": []
    },
    {
      "cell_type": "markdown",
      "metadata": {
        "id": "PIuJoJ564FMS"
      },
      "source": [
        "## Task 13: Check if a Number is Positive, Negative, or Zero\n",
        "Use if-elif-else statements to check whether a number is positive, negative, or zero.\n",
        "\n",
        "```python\n",
        "# Expected Output:\n",
        "The number 7 is Positive.\n",
        "```\n",
        "<details>\n",
        "  <summary>Click here for the solution</summary>\n",
        "\n",
        "    \n",
        "```python\n",
        "num = 7\n",
        "\n",
        "# Check using if-elif-else\n",
        "if num > 0:\n",
        "    print(f\"The number {num} is Positive.\")\n",
        "elif num < 0:\n",
        "    print(f\"The number {num} is Negative.\")\n",
        "else:\n",
        "    print(f\"The number {num} is Zero.\")\n",
        "```"
      ]
    },
    {
      "cell_type": "code",
      "execution_count": null,
      "metadata": {
        "id": "L-6l4Fuo4E3k"
      },
      "outputs": [],
      "source": [
        "# write your solution to task 13 here.\n"
      ]
    },
    {
      "cell_type": "markdown",
      "metadata": {
        "id": "mHSF1sSO46oA"
      },
      "source": [
        "## Task 14: Print Squares of Numbers from 1 to 5\n",
        "Use a for loop to print the square of each number from 1 to 5.\n",
        "\n",
        "```python\n",
        "# Expected Output:\n",
        "1 squared is 1\n",
        "2 squared is 4\n",
        "3 squared is 9\n",
        "4 squared is 16\n",
        "5 squared is 25\n",
        "\n",
        "```\n",
        "<details>\n",
        "  <summary>Click here for the solution</summary>\n",
        "\n",
        "    \n",
        "```python\n",
        "for i in range(1, 6):\n",
        "    print(f\"{i} squared is {i*i}\")\n",
        "```"
      ]
    },
    {
      "cell_type": "code",
      "execution_count": null,
      "metadata": {
        "id": "DwNwWr0O5erv"
      },
      "outputs": [],
      "source": [
        "# write your solution to task 14 here.\n"
      ]
    },
    {
      "cell_type": "markdown",
      "metadata": {
        "id": "97yruu4r5PEp"
      },
      "source": [
        "## Task 15: Countdown from 5 Using While Loop\n",
        "Use a while loop to countdown from 5 to 1 and then print \"Blast Off!\".\n",
        "\n",
        "```python\n",
        "# Expected Output:\n",
        "5\n",
        "4\n",
        "3\n",
        "2\n",
        "1\n",
        "Blast Off!\n",
        "\n",
        "```\n",
        "<details>\n",
        "  <summary>Click here for the solution</summary>\n",
        "\n",
        "    \n",
        "```python\n",
        "count = 5\n",
        "\n",
        "# While loop for countdown\n",
        "while count > 0:\n",
        "    print(count)\n",
        "    count -= 1\n",
        "\n",
        "# After countdown\n",
        "print(\"Blast Off!\")\n",
        "```"
      ]
    },
    {
      "cell_type": "code",
      "execution_count": null,
      "metadata": {
        "id": "d89633QS5rLd"
      },
      "outputs": [],
      "source": [
        "# write your solution to task 15 here.\n"
      ]
    },
    {
      "cell_type": "markdown",
      "metadata": {
        "id": "r3F_NxoC5tdb"
      },
      "source": [
        "## Task 16: Number Guessing Game\n",
        "Create a number guessing game using if-else and while loop. The program should randomly choose a number between 1 and 10(given there). The player has 3 attempts to guess the number correctly. After each wrong guess, the program should tell whether the guess was too high or too low.\n",
        "\n",
        "\n",
        "```python\n",
        "# Expected Output:\n",
        "Guess the number (1-10): 4  \n",
        "Too low!  \n",
        "Guess the number (1-10): 9  \n",
        "Too high!  \n",
        "Guess the number (1-10): 7  \n",
        "Congratulations! You guessed it right.  \n",
        "\n",
        "```\n",
        "<details>\n",
        "  <summary>Click here for the solution</summary>\n",
        "\n",
        "    \n",
        "```python\n",
        "import random\n",
        "\n",
        "secret_number = random.randint(1, 10)\n",
        "\n",
        "# Number of attempts\n",
        "attempts = 3\n",
        "\n",
        "# While loop for the game\n",
        "while attempts > 0:\n",
        "    guess = int(input(\"Guess the number (1-10): \"))\n",
        "    \n",
        "    if guess == secret_number:\n",
        "        print(\"Congratulations! You guessed it right.\")\n",
        "        break\n",
        "    elif guess < secret_number:\n",
        "        print(\"Too low!\")\n",
        "    else:\n",
        "        print(\"Too high!\")\n",
        "    \n",
        "    attempts -= 1\n",
        "\n",
        "# If the player runs out of attempts\n",
        "if attempts == 0 and guess != secret_number:\n",
        "    print(f\"Sorry! The correct number was {secret_number}.\")\n",
        "```"
      ]
    },
    {
      "cell_type": "code",
      "execution_count": null,
      "metadata": {
        "id": "iWmumtJ06VIH"
      },
      "outputs": [],
      "source": [
        "# write your solution to task 16 here.\n",
        "import random\n",
        "\n",
        "secret_number = random.randint(1, 10)\n",
        "\n"
      ]
    }
  ],
  "metadata": {
    "accelerator": "GPU",
    "colab": {
      "gpuType": "T4",
      "provenance": [],
      "toc_visible": true
    },
    "kernelspec": {
      "display_name": "Python 3",
      "name": "python3"
    },
    "language_info": {
      "name": "python"
    }
  },
  "nbformat": 4,
  "nbformat_minor": 0
}
